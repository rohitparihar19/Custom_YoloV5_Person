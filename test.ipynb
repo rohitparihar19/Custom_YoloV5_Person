{
 "cells": [
  {
   "cell_type": "code",
   "execution_count": 2,
   "metadata": {},
   "outputs": [
    {
     "name": "stdout",
     "output_type": "stream",
     "text": [
      "c:\\Users\\HP\\Office_Projects\\Computer_vision\\Yolov5\\yolov5\n"
     ]
    }
   ],
   "source": [
    "%cd C:\\Users\\HP\\Office_Projects\\Computer_vision\\Yolov5\\yolov5"
   ]
  },
  {
   "cell_type": "code",
   "execution_count": 3,
   "metadata": {},
   "outputs": [
    {
     "name": "stderr",
     "output_type": "stream",
     "text": [
      "Downloading: \"https://github.com/ultralytics/yolov5/archive/master.zip\" to C:\\Users\\HP/.cache\\torch\\hub\\master.zip\n",
      "YOLOv5  2022-6-6 Python-3.8.13 torch-1.11.0+cu113 CUDA:0 (NVIDIA GeForce GTX 1650, 4096MiB)\n",
      "\n",
      "Fusing layers... \n",
      "Model summary: 213 layers, 7012822 parameters, 0 gradients, 15.8 GFLOPs\n",
      "Adding AutoShape... \n"
     ]
    }
   ],
   "source": [
    "import cv2\n",
    "import base64\n",
    "import numpy as np,time\n",
    "from time import time\n",
    "from multiprocessing import Process\n",
    "import torch, random, threading, queue\n",
    "import matplotlib.pyplot as plt\n",
    "import os\n",
    "\n",
    "# fourcc = cv2.VideoWriter_fourcc(*'mpv4')\n",
    "# output = cv2.VideoWriter('/Image/output_file.mp4', fourcc, 20.0, (640, 640))\n",
    "path = \"C:/Users/HP/Office_Projects/Computer_vision/Yolov5/yolov5/best.pt\"\n",
    "model = torch.hub.load('ultralytics/yolov5', 'custom', path = path, force_reload=True)\n",
    "device = 'cuda' if torch.cuda.is_available() else 'cpu'\n",
    "classes = model.names"
   ]
  },
  {
   "cell_type": "code",
   "execution_count": 4,
   "metadata": {},
   "outputs": [],
   "source": [
    "def score_frame(frame):\n",
    "    \"\"\"\n",
    "    Takes a single frame as input, and scores the frame using yolo5 model.\n",
    "    :param frame: input frame in numpy/list/tuple format.\n",
    "    :return: Labels and Coordinates of objects detected by model in the frame.\n",
    "    \"\"\"\n",
    "    # start_time = time.time()\n",
    "    model.to(device)\n",
    "    frame = [frame]\n",
    "    detects = model(frame)\n",
    "    # inference_latency = (time.time() - start_time) * 1000\n",
    "    labels, cord = detects.xyxyn[0][:, -1], detects.xyxyn[0][:, :-1]\n",
    "    # print(inference_latency)\n",
    "    return labels, cord\n",
    "\n",
    "def class_to_label(x):\n",
    "    \"\"\"\n",
    "    For a given label value, return corresponding string label.\n",
    "    :param x: numeric label\n",
    "    :return: corresponding string label\n",
    "    \"\"\"\n",
    "    return classes[int(x)]\n",
    "\n",
    "def plot_boxes(results, frame):\n",
    "    \"\"\"\n",
    "    Takes a frame and its results as input, and plots the bounding boxes and label on to the frame.\n",
    "    :param results: contains labels and coordinates predicted by model on the given frame.\n",
    "    :param frame: Frame which has been scored.\n",
    "    :return: Frame with bounding boxes and labels ploted on it.\n",
    "    \"\"\"\n",
    "    labels, cord = results\n",
    "    n = len(labels)\n",
    "    x_shape, y_shape = frame.shape[1], frame.shape[0]\n",
    "    for i in range(n):\n",
    "        row = cord[i]\n",
    "        if row[4] >= 0.3:\n",
    "            x1, y1, x2, y2 = int(row[0] * x_shape), int(row[1] * y_shape), int(row[2] * x_shape), int(row[3] * y_shape)\n",
    "            bgr = (0, 255, 0)\n",
    "            cv2.rectangle(frame, (x1, y1), (x2, y2), bgr, 2)\n",
    "            cv2.putText(frame, class_to_label(labels[i]), (x1, y1), cv2.FONT_HERSHEY_SIMPLEX, 0.9, bgr, 2)\n",
    "    return frame\n",
    "\n",
    "def detection(source):\n",
    "\n",
    "    cap = cv2.VideoCapture(source)\n",
    "    assert cap.isOpened()\n",
    "    while True:\n",
    "    \n",
    "        ret, frame = cap.read()\n",
    "        assert ret\n",
    "        \n",
    "        frame = cv2.resize(frame, (416,416))\n",
    "        \n",
    "        start_time = time()\n",
    "\n",
    "        assert cap.isOpened()\n",
    "        results = score_frame(frame)\n",
    "        frame = plot_boxes(results, frame)\n",
    "        end_time = time()\n",
    "        fps = 1/np.round(end_time - start_time, 2)\n",
    "        #print(f\"Frames Per Second : {fps}\")\n",
    "            \n",
    "        cv2.putText(frame, f'FPS: {int(fps)}', (20,70), cv2.FONT_HERSHEY_SIMPLEX, 1.5, (0,255,0), 2)\n",
    "        \n",
    "        cv2.imshow('YOLOv5 Detection', frame)\n",
    "\n",
    "        if cv2.waitKey(5) & 0xFF == 27:\n",
    "            break\n",
    "    \n",
    "    cap.release()"
   ]
  },
  {
   "cell_type": "code",
   "execution_count": 6,
   "metadata": {},
   "outputs": [
    {
     "ename": "AssertionError",
     "evalue": "",
     "output_type": "error",
     "traceback": [
      "\u001b[1;31m---------------------------------------------------------------------------\u001b[0m",
      "\u001b[1;31mAssertionError\u001b[0m                            Traceback (most recent call last)",
      "\u001b[1;32mc:\\Users\\HP\\Office_Projects\\Computer_vision\\Yolov5\\yolov5\\test.ipynb Cell 4'\u001b[0m in \u001b[0;36m<cell line: 1>\u001b[1;34m()\u001b[0m\n\u001b[1;32m----> <a href='vscode-notebook-cell:/c%3A/Users/HP/Office_Projects/Computer_vision/Yolov5/yolov5/test.ipynb#ch0000003?line=0'>1</a>\u001b[0m detection(\u001b[39m'\u001b[39;49m\u001b[39mvideo-clip.mp4\u001b[39;49m\u001b[39m'\u001b[39;49m)\n",
      "\u001b[1;32mc:\\Users\\HP\\Office_Projects\\Computer_vision\\Yolov5\\yolov5\\test.ipynb Cell 3'\u001b[0m in \u001b[0;36mdetection\u001b[1;34m(source)\u001b[0m\n\u001b[0;32m     <a href='vscode-notebook-cell:/c%3A/Users/HP/Office_Projects/Computer_vision/Yolov5/yolov5/test.ipynb#ch0000002?line=46'>47</a>\u001b[0m \u001b[39mwhile\u001b[39;00m \u001b[39mTrue\u001b[39;00m:\n\u001b[0;32m     <a href='vscode-notebook-cell:/c%3A/Users/HP/Office_Projects/Computer_vision/Yolov5/yolov5/test.ipynb#ch0000002?line=48'>49</a>\u001b[0m     ret, frame \u001b[39m=\u001b[39m cap\u001b[39m.\u001b[39mread()\n\u001b[1;32m---> <a href='vscode-notebook-cell:/c%3A/Users/HP/Office_Projects/Computer_vision/Yolov5/yolov5/test.ipynb#ch0000002?line=49'>50</a>\u001b[0m     \u001b[39massert\u001b[39;00m ret\n\u001b[0;32m     <a href='vscode-notebook-cell:/c%3A/Users/HP/Office_Projects/Computer_vision/Yolov5/yolov5/test.ipynb#ch0000002?line=51'>52</a>\u001b[0m     frame \u001b[39m=\u001b[39m cv2\u001b[39m.\u001b[39mresize(frame, (\u001b[39m416\u001b[39m,\u001b[39m416\u001b[39m))\n\u001b[0;32m     <a href='vscode-notebook-cell:/c%3A/Users/HP/Office_Projects/Computer_vision/Yolov5/yolov5/test.ipynb#ch0000002?line=53'>54</a>\u001b[0m     start_time \u001b[39m=\u001b[39m time()\n",
      "\u001b[1;31mAssertionError\u001b[0m: "
     ]
    }
   ],
   "source": [
    "detection('video-clip.mp4')"
   ]
  }
 ],
 "metadata": {
  "interpreter": {
   "hash": "bf716ec765f2b35a118d298567913a2ff32ee2146beb271cc95d10e25022948b"
  },
  "kernelspec": {
   "display_name": "Python 3.8.13 ('Detection')",
   "language": "python",
   "name": "python3"
  },
  "language_info": {
   "codemirror_mode": {
    "name": "ipython",
    "version": 3
   },
   "file_extension": ".py",
   "mimetype": "text/x-python",
   "name": "python",
   "nbconvert_exporter": "python",
   "pygments_lexer": "ipython3",
   "version": "3.8.13"
  },
  "orig_nbformat": 4
 },
 "nbformat": 4,
 "nbformat_minor": 2
}
